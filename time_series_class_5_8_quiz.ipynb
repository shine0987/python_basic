{
 "cells": [
  {
   "cell_type": "code",
   "execution_count": 99,
   "id": "f30f1a69-7b1d-404c-ad5c-6a7fc4c599c8",
   "metadata": {},
   "outputs": [],
   "source": [
    "import numpy as np\n",
    "import pandas as pd\n",
    "import matplotlib.pyplot as plt\n",
    "import seaborn as sns\n",
    "plt.rcParams[\"font.family\"] = 'Malgun Gothic'"
   ]
  },
  {
   "cell_type": "markdown",
   "id": "5b7b3dce-82e0-4c4b-8399-3c57fa78a046",
   "metadata": {},
   "source": [
    "# [2차 프로그래밍 문제]\n",
    "* 제출날짜: 2024-05-16까지 ipynb 소스자료 업로드하기\n",
    "* cyber캠퍼스와 깃허브에 올리기\n",
    "* 실습에서 사용한 weather.csv 파일을 판다스를 이용하여 데이터프레임을 만들어 다음과 같이 처리한다."
   ]
  },
  {
   "cell_type": "code",
   "execution_count": 100,
   "id": "784b69c6-ad19-461d-ba85-375a0f7568ba",
   "metadata": {},
   "outputs": [
    {
     "name": "stderr",
     "output_type": "stream",
     "text": [
      "C:\\Users\\user\\AppData\\Local\\Temp\\ipykernel_11040\\4244684873.py:6: FutureWarning: A value is trying to be set on a copy of a DataFrame or Series through chained assignment using an inplace method.\n",
      "The behavior will change in pandas 3.0. This inplace method will never work because the intermediate object on which we are setting values always behaves as a copy.\n",
      "\n",
      "For example, when doing 'df[col].method(value, inplace=True)', try using 'df.method({col: value}, inplace=True)' or df[col] = df[col].method(value) instead, to perform the operation inplace on the original object.\n",
      "\n",
      "\n",
      "  weather['최대 풍속'].fillna(mean_wind, inplace=True)\n",
      "C:\\Users\\user\\AppData\\Local\\Temp\\ipykernel_11040\\4244684873.py:8: FutureWarning: A value is trying to be set on a copy of a DataFrame or Series through chained assignment using an inplace method.\n",
      "The behavior will change in pandas 3.0. This inplace method will never work because the intermediate object on which we are setting values always behaves as a copy.\n",
      "\n",
      "For example, when doing 'df[col].method(value, inplace=True)', try using 'df.method({col: value}, inplace=True)' or df[col] = df[col].method(value) instead, to perform the operation inplace on the original object.\n",
      "\n",
      "\n",
      "  weather['평균 풍속'].fillna(mean_wind, inplace=True)\n"
     ]
    }
   ],
   "source": [
    "# 데이터 셋 불러오기\n",
    "weather = pd.read_csv(\"weather.csv\", index_col = 0, parse_dates=True) # csv -> DataFrame\n",
    "\n",
    "# 데이터 정제\n",
    "mean_wind = weather['최대 풍속'].mean()\n",
    "weather['최대 풍속'].fillna(mean_wind, inplace=True)\n",
    "mean_wind = weather['평균 풍속'].mean()\n",
    "weather['평균 풍속'].fillna(mean_wind, inplace=True)"
   ]
  },
  {
   "cell_type": "markdown",
   "id": "ca20a21f-dec6-4954-9c26-586e6f4de5fa",
   "metadata": {},
   "source": [
    "## 1) 이 데이터셋의 앞 3개 행과 마지막 3개의 행을 화면에 출력하시오."
   ]
  },
  {
   "cell_type": "code",
   "execution_count": 101,
   "id": "c4235706-dcf2-4489-93d7-8169fde8b713",
   "metadata": {},
   "outputs": [
    {
     "name": "stdout",
     "output_type": "stream",
     "text": [
      "            평균 기온  최대 풍속  평균 풍속\n",
      "일시                             \n",
      "2010-08-01   28.7    8.3    3.4\n",
      "2010-08-02   25.2    8.7    3.8\n",
      "2010-08-03   22.1    6.3    2.9\n",
      "            평균 기온  최대 풍속  평균 풍속\n",
      "일시                             \n",
      "2020-07-29   21.6    3.2    1.0\n",
      "2020-07-30   22.9    9.7    2.4\n",
      "2020-07-31   25.7    4.8    2.5\n"
     ]
    }
   ],
   "source": [
    "print(weather.head(3))\n",
    "print(weather.tail(3))"
   ]
  },
  {
   "cell_type": "markdown",
   "id": "61a433cf-ef5a-4a19-a00b-fe9deba0e6a3",
   "metadata": {},
   "source": [
    "## 2) 2015년 6월 6일의 \"평균 기온\"과 \"풍속 정보\"를 출력하시오"
   ]
  },
  {
   "cell_type": "code",
   "execution_count": 102,
   "id": "f366ace3-600f-49b1-aa0b-3462b4d83ce2",
   "metadata": {},
   "outputs": [
    {
     "name": "stdout",
     "output_type": "stream",
     "text": [
      "평균 기온    16.6\n",
      "최대 풍속     4.4\n",
      "평균 풍속     1.9\n",
      "Name: 2015-06-06 00:00:00, dtype: float64\n"
     ]
    }
   ],
   "source": [
    "print(weather.loc['2015-06-06'])"
   ]
  },
  {
   "cell_type": "markdown",
   "id": "88e8bc37-1ab9-4e8a-8c30-5446d538a441",
   "metadata": {},
   "source": [
    "## 3) 가장 무더웠던 날짜를 추출해서 이 날의 기상 데이터를 출력하시오."
   ]
  },
  {
   "cell_type": "code",
   "execution_count": 103,
   "id": "3cf5de19-0f97-46d5-ae85-7f0fcaa3bd46",
   "metadata": {},
   "outputs": [
    {
     "name": "stdout",
     "output_type": "stream",
     "text": [
      "평균 기온    31.3\n",
      "최대 풍속     7.8\n",
      "평균 풍속     4.6\n",
      "Name: 2013-08-08 00:00:00, dtype: float64\n"
     ]
    }
   ],
   "source": [
    "index = weather['평균 기온'].idxmax()\n",
    "print(weather.loc[index])"
   ]
  },
  {
   "cell_type": "markdown",
   "id": "017abbaa-b2b3-4a42-aedd-dd065fd4d72c",
   "metadata": {},
   "source": [
    "## 4) \"평균 기온\"이 30도를 넘는 날짜들을 찾아, 이 날의 기상 데이터를 출력하시오."
   ]
  },
  {
   "cell_type": "code",
   "execution_count": 104,
   "id": "6a3137ef-4e93-480b-b21a-5e269b9df2e4",
   "metadata": {},
   "outputs": [
    {
     "name": "stdout",
     "output_type": "stream",
     "text": [
      "            평균 기온  최대 풍속  평균 풍속\n",
      "일시                             \n",
      "2013-08-08   31.3    7.8    4.6\n",
      "2013-08-09   30.6    9.9    6.4\n",
      "2013-08-10   30.6    7.4    3.8\n",
      "2018-07-23   30.5    6.5    1.6\n",
      "2018-08-04   30.3    5.8    3.0\n"
     ]
    }
   ],
   "source": [
    "date = weather[weather['평균 기온'] >= 30]\n",
    "print(date)"
   ]
  },
  {
   "cell_type": "markdown",
   "id": "2b4fac03-4eea-47d7-832d-5e9ab55dfceb",
   "metadata": {},
   "source": [
    "## 5) 연도별 \"평균 기온\"의 평균에 대한 추이를 선 그래프로 그리시오."
   ]
  },
  {
   "cell_type": "code",
   "execution_count": 105,
   "id": "1180c028-f1c5-4e2f-8b5f-d95906732b89",
   "metadata": {},
   "outputs": [
    {
     "data": {
      "image/png": "[encoded data removed]",
      "text/plain": [
       "<Figure size 640x480 with 1 Axes>"
      ]
     },
     "metadata": {},
     "output_type": "display_data"
    }
   ],
   "source": [
    "weather['year'] = weather.index.year # 'year' 컬럼 추가\n",
    "yearly_temp = weather.groupby('year')['평균 기온'].mean()\n",
    "yearly_temp.plot(kind='line') # 선 그래프\n",
    "\n",
    "plt.xlabel('연도')\n",
    "plt.ylabel('평균 기온')\n",
    "plt.title('연도별 \"평균 기온\"의 평균')\n",
    "plt.show()"
   ]
  },
  {
   "cell_type": "markdown",
   "id": "28cf74d3-9488-4c8e-8872-d836a9116957",
   "metadata": {},
   "source": [
    "## 6) 연도별 \"최대 풍속\"의 평균을 막대 그래프로 그리시오."
   ]
  },
  {
   "cell_type": "code",
   "execution_count": 106,
   "id": "860c6b10-822e-4409-b001-52b9dfaa511b",
   "metadata": {},
   "outputs": [
    {
     "data": {
      "image/png": "[encoded data removed]",
      "text/plain": [
       "<Figure size 640x480 with 1 Axes>"
      ]
     },
     "metadata": {},
     "output_type": "display_data"
    }
   ],
   "source": [
    "yearly_temp = weather.groupby('year')['최대 풍속'].mean()\n",
    "years = np.arange(2010, 2021)\n",
    "plt.bar(years, yearly_temp) # 막대 그래프\n",
    "\n",
    "plt.title('연도별 \"최대 풍속\"의 평균')\n",
    "plt.xlabel('연도')\n",
    "plt.ylabel('최대 풍속')\n",
    "plt.show()"
   ]
  },
  {
   "cell_type": "markdown",
   "id": "0a23164b-abf7-4a71-9bda-b57188a2e30a",
   "metadata": {},
   "source": [
    "## 7) 연도별 \"평균 풍속\"의 합을 히스토그램 그래프로 그리시오"
   ]
  },
  {
   "cell_type": "code",
   "execution_count": 112,
   "id": "ffd4923f-3f09-4769-bc04-99d375578812",
   "metadata": {},
   "outputs": [
    {
     "data": {
      "text/plain": [
       "Text(0, 0.5, '빈도수')"
      ]
     },
     "execution_count": 112,
     "metadata": {},
     "output_type": "execute_result"
    },
    {
     "data": {
      "image/png": "[encoded data removed]",
      "text/plain": [
       "<Figure size 640x480 with 1 Axes>"
      ]
     },
     "metadata": {},
     "output_type": "display_data"
    }
   ],
   "source": [
    "yearly_sums = weather.groupby('year')[['평균 기온', '최대 풍속', '평균 풍속']].sum()\n",
    "plt.hist(yearly_sums['평균 풍속'], bins=10, color='green')\n",
    "\n",
    "plt.title('연도별 \"평균 풍속\"의 합')\n",
    "plt.xlabel(\"평균 풍속\")\n",
    "plt.ylabel(\"빈도수\")"
   ]
  },
  {
   "cell_type": "markdown",
   "id": "0d52ce2c-f079-40e9-8b37-2d0e47b12542",
   "metadata": {},
   "source": [
    "## 8) 2015년과 2016년의 \"평균 기온\"의 평균을 비교하여 어느 해가 더 더웠는지 출력하시오."
   ]
  },
  {
   "cell_type": "code",
   "execution_count": 113,
   "id": "33f3af4a-a571-49e9-a6fd-c36a24f5ca8a",
   "metadata": {},
   "outputs": [
    {
     "name": "stdout",
     "output_type": "stream",
     "text": [
      "2016년이 2015년보다 더 더웠습니다.\n"
     ]
    }
   ],
   "source": [
    "yearly_mean = weather.groupby('year')['평균 기온'].mean()\n",
    "mean_2015 = yearly_mean.loc[2015] # 2015년의 평균\n",
    "mean_2016 = yearly_mean.loc[2016] # 2016년의 평균\n",
    "\n",
    "if mean_2015 > mean_2016:\n",
    "    print(\"2015년이 2016년보다 더 더웠습니다.\")\n",
    "else:\n",
    "    print(\"2016년이 2015년보다 더 더웠습니다.\")"
   ]
  },
  {
   "cell_type": "markdown",
   "id": "31bd4848-8e28-44b4-85ea-2f0bba1e47df",
   "metadata": {},
   "source": [
    "## 9) 월별 \"평균 기온\" 의 합이 가장 적은 달과 가장 많은 달을 출력하시오."
   ]
  },
  {
   "cell_type": "code",
   "execution_count": 121,
   "id": "ddfb0f2f-e557-4ec2-bda1-dc09b58becbe",
   "metadata": {},
   "outputs": [
    {
     "name": "stdout",
     "output_type": "stream",
     "text": [
      "<월별 \"평균 기온\"의 합>\n",
      "가장 적은 달 : 1\n",
      "가장 많은 달 : 8\n"
     ]
    }
   ],
   "source": [
    "weather['month'] = weather.index.month # 'month' 컬럼 추가\n",
    "monthly_sums = weather.groupby('month')['평균 기온'].sum()\n",
    "\n",
    "print('<월별 \"평균 기온\"의 합>')\n",
    "print('가장 적은 달 :', monthly_sums.idxmin())\n",
    "print('가장 많은 달 :', monthly_sums.idxmax())"
   ]
  },
  {
   "cell_type": "markdown",
   "id": "1781e5ad-a19a-446f-94e5-190d55a632ac",
   "metadata": {},
   "source": [
    "## 10) 연도별 \"최대 풍속\"의 평균이 가장 큰 연도를 출력하시오."
   ]
  },
  {
   "cell_type": "code",
   "execution_count": 123,
   "id": "82335c97-15f8-40ef-be8b-dd8f8329a9e3",
   "metadata": {},
   "outputs": [
    {
     "name": "stdout",
     "output_type": "stream",
     "text": [
      "연도별 \"최대 풍속\"의 평균이 가장 큰 연도 : 2011\n"
     ]
    }
   ],
   "source": [
    "yearly_mean = weather.groupby('year')['최대 풍속'].mean()\n",
    "print('연도별 \"최대 풍속\"의 평균이 가장 큰 연도 :', yearly_mean.idxmax())"
   ]
  },
  {
   "cell_type": "code",
   "execution_count": null,
   "id": "c06ffa6c-ff6d-4528-9729-07a4ddeb20f5",
   "metadata": {},
   "outputs": [],
   "source": []
  }
 ],
 "metadata": {
  "kernelspec": {
   "display_name": "Python 3 (ipykernel)",
   "language": "python",
   "name": "python3"
  },
  "language_info": {
   "codemirror_mode": {
    "name": "ipython",
    "version": 3
   },
   "file_extension": ".py",
   "mimetype": "text/x-python",
   "name": "python",
   "nbconvert_exporter": "python",
   "pygments_lexer": "ipython3",
   "version": "3.12.2"
  }
 },
 "nbformat": 4,
 "nbformat_minor": 5
}
